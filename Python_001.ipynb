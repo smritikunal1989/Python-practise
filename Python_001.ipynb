{
  "nbformat": 4,
  "nbformat_minor": 0,
  "metadata": {
    "colab": {
      "provenance": [],
      "toc_visible": true,
      "authorship_tag": "ABX9TyMsht1KIVIasIlTAfVXydLe",
      "include_colab_link": true
    },
    "kernelspec": {
      "name": "python3",
      "display_name": "Python 3"
    },
    "language_info": {
      "name": "python"
    }
  },
  "cells": [
    {
      "cell_type": "markdown",
      "metadata": {
        "id": "view-in-github",
        "colab_type": "text"
      },
      "source": [
        "<a href=\"https://colab.research.google.com/github/smritikunal1989/Python-practise/blob/main/Python_001.ipynb\" target=\"_parent\"><img src=\"https://colab.research.google.com/assets/colab-badge.svg\" alt=\"Open In Colab\"/></a>"
      ]
    },
    {
      "cell_type": "code",
      "execution_count": null,
      "metadata": {
        "colab": {
          "base_uri": "https://localhost:8080/"
        },
        "id": "ECbqXcb4BM-W",
        "outputId": "24f80c27-7e6a-4a3d-cb2a-994247b096ed"
      },
      "outputs": [
        {
          "output_type": "stream",
          "name": "stdout",
          "text": [
            "Wlecome to google collab\n"
          ]
        }
      ],
      "source": [
        "print(\"Wlecome to google collab\")"
      ]
    },
    {
      "cell_type": "markdown",
      "source": [
        "This is python tutorial"
      ],
      "metadata": {
        "id": "t-xqG-QdBj6P"
      }
    },
    {
      "cell_type": "code",
      "source": [
        "a=5\n",
        "b=10\n",
        "print(a+b)"
      ],
      "metadata": {
        "colab": {
          "base_uri": "https://localhost:8080/"
        },
        "id": "PXC2HYilBpAv",
        "outputId": "51c0ea5f-ab67-4bca-f91f-1b543bcb3e58"
      },
      "execution_count": null,
      "outputs": [
        {
          "output_type": "stream",
          "name": "stdout",
          "text": [
            "15\n"
          ]
        }
      ]
    },
    {
      "cell_type": "code",
      "source": [
        "\n",
        "names =[\"Aarav\",\"Upasana\",\"Kunal\"]\n",
        "for name in names:\n",
        "  print(name)\n",
        "\n"
      ],
      "metadata": {
        "colab": {
          "base_uri": "https://localhost:8080/"
        },
        "id": "2hEgfUStp6ck",
        "outputId": "1eb5d0b2-9a9d-41dd-a307-b5f1cd00b610"
      },
      "execution_count": null,
      "outputs": [
        {
          "output_type": "stream",
          "name": "stdout",
          "text": [
            "Aarav\n",
            "Upasana\n",
            "Kunal\n"
          ]
        }
      ]
    },
    {
      "cell_type": "code",
      "source": [
        "for i in range(10):\n",
        "  print(i)"
      ],
      "metadata": {
        "colab": {
          "base_uri": "https://localhost:8080/"
        },
        "id": "0g3MLmdBqgnu",
        "outputId": "5ebbd96f-edb6-4687-b77d-ae1aac46ca9f"
      },
      "execution_count": null,
      "outputs": [
        {
          "output_type": "stream",
          "name": "stdout",
          "text": [
            "0\n",
            "1\n",
            "2\n",
            "3\n",
            "4\n",
            "5\n",
            "6\n",
            "7\n",
            "8\n",
            "9\n"
          ]
        }
      ]
    },
    {
      "cell_type": "code",
      "source": [
        "import random\n",
        "count =0\n",
        "while (count <10):\n",
        "  number =random.randint(1,7)\n",
        "  count =count+1\n",
        "  print(number)\n"
      ],
      "metadata": {
        "colab": {
          "base_uri": "https://localhost:8080/"
        },
        "id": "lN4BUNneqpQT",
        "outputId": "d49168f5-7737-4dce-934e-0d53856375c6"
      },
      "execution_count": null,
      "outputs": [
        {
          "output_type": "stream",
          "name": "stdout",
          "text": [
            "6\n",
            "1\n",
            "5\n",
            "6\n",
            "5\n",
            "2\n",
            "4\n",
            "2\n",
            "1\n",
            "7\n"
          ]
        }
      ]
    },
    {
      "cell_type": "code",
      "source": [
        "employee_details ={\"name\":\"Smriti Kunal\",\"phonenumber\":432978454,\"salary\":12000,\n",
        "                   \"name\":\"Upasana Bardhan\",\"phonenumber\":438978454,\"salary\":15000,\n",
        "                   \"name\":\"Aarav Jha\",\"phonenumber\":432978454,\"salary\":0000}\n",
        "\n",
        "print(len(employee_details))"
      ],
      "metadata": {
        "colab": {
          "base_uri": "https://localhost:8080/"
        },
        "id": "xFrT6Gf-rkzX",
        "outputId": "096bb3f2-9a32-4e14-e919-fb2eca77bf3a"
      },
      "execution_count": null,
      "outputs": [
        {
          "output_type": "stream",
          "name": "stdout",
          "text": [
            "3\n"
          ]
        }
      ]
    },
    {
      "cell_type": "code",
      "source": [
        "for item in employee_details.item():\n",
        "  print(item)"
      ],
      "metadata": {
        "colab": {
          "base_uri": "https://localhost:8080/",
          "height": 159
        },
        "id": "v1jTNAAfslLk",
        "outputId": "fdffec7f-3bca-4994-e3db-cae0f7b78e23"
      },
      "execution_count": null,
      "outputs": [
        {
          "output_type": "error",
          "ename": "AttributeError",
          "evalue": "'dict' object has no attribute 'item'",
          "traceback": [
            "\u001b[0;31m---------------------------------------------------------------------------\u001b[0m",
            "\u001b[0;31mAttributeError\u001b[0m                            Traceback (most recent call last)",
            "\u001b[0;32m<ipython-input-12-417021b2e659>\u001b[0m in \u001b[0;36m<cell line: 0>\u001b[0;34m()\u001b[0m\n\u001b[0;32m----> 1\u001b[0;31m \u001b[0;32mfor\u001b[0m \u001b[0mitem\u001b[0m \u001b[0;32min\u001b[0m \u001b[0memployee_details\u001b[0m\u001b[0;34m.\u001b[0m\u001b[0mitem\u001b[0m\u001b[0;34m(\u001b[0m\u001b[0;34m)\u001b[0m\u001b[0;34m:\u001b[0m\u001b[0;34m\u001b[0m\u001b[0;34m\u001b[0m\u001b[0m\n\u001b[0m\u001b[1;32m      2\u001b[0m   \u001b[0mprint\u001b[0m\u001b[0;34m(\u001b[0m\u001b[0mitem\u001b[0m\u001b[0;34m)\u001b[0m\u001b[0;34m\u001b[0m\u001b[0;34m\u001b[0m\u001b[0m\n",
            "\u001b[0;31mAttributeError\u001b[0m: 'dict' object has no attribute 'item'"
          ]
        }
      ]
    },
    {
      "cell_type": "code",
      "source": [
        "student = {\"name\": \"Alice\", \"age\": 21, \"grade\": \"A\"}\n",
        "for item in student:\n",
        "  print(item,\"--->\",student[item])\n"
      ],
      "metadata": {
        "colab": {
          "base_uri": "https://localhost:8080/"
        },
        "id": "TLdmiVN_tfdY",
        "outputId": "9f4f9a0b-f0a0-4db0-f540-970e87c7f578"
      },
      "execution_count": null,
      "outputs": [
        {
          "output_type": "stream",
          "name": "stdout",
          "text": [
            "name ---> Alice\n",
            "age ---> 21\n",
            "grade ---> A\n"
          ]
        }
      ]
    },
    {
      "cell_type": "code",
      "source": [
        "for item in student.values():\n",
        "  print(item)"
      ],
      "metadata": {
        "colab": {
          "base_uri": "https://localhost:8080/"
        },
        "id": "EJIlEGxgvBj5",
        "outputId": "50302861-03f7-4890-a665-dbaaebab5a56"
      },
      "execution_count": null,
      "outputs": [
        {
          "output_type": "stream",
          "name": "stdout",
          "text": [
            "Alice\n",
            "21\n",
            "A\n"
          ]
        }
      ]
    },
    {
      "cell_type": "code",
      "source": [
        "def greet():\n",
        "  print(\"How are you today\")\n",
        "greet()"
      ],
      "metadata": {
        "colab": {
          "base_uri": "https://localhost:8080/"
        },
        "id": "s8gb79D7vMH0",
        "outputId": "9e5b82ec-6747-42cf-9db7-c7bf31bdb515"
      },
      "execution_count": null,
      "outputs": [
        {
          "output_type": "stream",
          "name": "stdout",
          "text": [
            "How are you today\n"
          ]
        }
      ]
    },
    {
      "cell_type": "code",
      "source": [
        "def function_parameter(name,age):\n",
        "  \"\"\" This is a docstring\"\"\"\n",
        "  print(f\"My name is {name} and I am {age} years old\")\n",
        "function_parameter(\"Aarav\",21)"
      ],
      "metadata": {
        "colab": {
          "base_uri": "https://localhost:8080/"
        },
        "id": "kbuHwXR6vY_s",
        "outputId": "6e81f872-c550-482a-ea65-601b208f52bc"
      },
      "execution_count": null,
      "outputs": [
        {
          "output_type": "stream",
          "name": "stdout",
          "text": [
            "My name is Aarav and I am 21 years old\n"
          ]
        }
      ]
    },
    {
      "cell_type": "code",
      "source": [
        "def add_numbers(a,b):\n",
        "  \"\"\"this function is used to add two numbers \"\"\"\n",
        "  sum =a+b\n",
        "  return sum\n",
        "\n",
        "result =add_numbers(15,10)\n",
        "print(result)"
      ],
      "metadata": {
        "colab": {
          "base_uri": "https://localhost:8080/"
        },
        "id": "yGMMuSWlv_Ad",
        "outputId": "322ecff6-f9ca-492a-d8df-f30a2e254862"
      },
      "execution_count": null,
      "outputs": [
        {
          "output_type": "stream",
          "name": "stdout",
          "text": [
            "25\n"
          ]
        }
      ]
    },
    {
      "cell_type": "markdown",
      "source": [
        "**Number Guessing Game**"
      ],
      "metadata": {
        "id": "Go5G3eG2w1dY"
      }
    },
    {
      "cell_type": "code",
      "source": [
        "import random\n",
        "guess_number=random.randint(1,100)\n",
        "user_guess=0\n",
        "while user_guess!=guess_number:\n",
        "  user_guess=int(input(\"Guess a number between 1 to 100: \"))\n",
        "  if user_guess ==guess_number:\n",
        "    print(\"Hooray you won!! \")\n",
        "  elif user_guess<guess_number:\n",
        "    print(\"Your guess is too low \")\n",
        "  else:\n",
        "    print(\"Your guess is too high \")\n",
        "\n",
        "\n"
      ],
      "metadata": {
        "colab": {
          "base_uri": "https://localhost:8080/"
        },
        "id": "Qii5y00rxCgp",
        "outputId": "6176cba0-fb53-4dbb-b6b6-63256b7f7631"
      },
      "execution_count": null,
      "outputs": [
        {
          "output_type": "stream",
          "name": "stdout",
          "text": [
            "Guess a number between 1 to 100: 35\n",
            "Your guess is too low \n",
            "Guess a number between 1 to 100: 23\n",
            "Your guess is too low \n",
            "Guess a number between 1 to 100: 50\n",
            "Your guess is too low \n",
            "Guess a number between 1 to 100: 90\n",
            "Your guess is too high \n",
            "Guess a number between 1 to 100: 75\n",
            "Your guess is too low \n",
            "Guess a number between 1 to 100: 80\n",
            "Your guess is too low \n",
            "Guess a number between 1 to 100: 85\n",
            "Your guess is too low \n",
            "Guess a number between 1 to 100: 87\n",
            "Hooray you won!! \n"
          ]
        }
      ]
    },
    {
      "cell_type": "markdown",
      "source": [
        "# New Section"
      ],
      "metadata": {
        "id": "KPD1JSRd0Fmj"
      }
    }
  ]
}