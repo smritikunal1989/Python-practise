{
  "nbformat": 4,
  "nbformat_minor": 0,
  "metadata": {
    "colab": {
      "provenance": [],
      "authorship_tag": "ABX9TyM1AqZSKn0CwNnE6ycvAfpv",
      "include_colab_link": true
    },
    "kernelspec": {
      "name": "python3",
      "display_name": "Python 3"
    },
    "language_info": {
      "name": "python"
    }
  },
  "cells": [
    {
      "cell_type": "markdown",
      "metadata": {
        "id": "view-in-github",
        "colab_type": "text"
      },
      "source": [
        "<a href=\"https://colab.research.google.com/github/smritikunal1989/Python-practise/blob/main/Python_Project_002.ipynb\" target=\"_parent\"><img src=\"https://colab.research.google.com/assets/colab-badge.svg\" alt=\"Open In Colab\"/></a>"
      ]
    },
    {
      "cell_type": "code",
      "execution_count": null,
      "metadata": {
        "id": "d7b9m6lz1VTC"
      },
      "outputs": [],
      "source": []
    },
    {
      "cell_type": "markdown",
      "source": [
        "**Calculator using Python**\n"
      ],
      "metadata": {
        "id": "j2TpQZZS1ZhZ"
      }
    },
    {
      "cell_type": "code",
      "source": [
        "def calculate(a,b,op):\n",
        "  if op.lower()==\"add\":\n",
        "    value =a+b\n",
        "  elif op.lower()==\"sub\":\n",
        "    value =a-b\n",
        "  elif op.lower()==\"mul\":\n",
        "    value =a*b\n",
        "  elif op.lower()==\"div\":\n",
        "    value =a/b\n",
        "  return value\n",
        "\n",
        "calculate(2,3,\"add\")"
      ],
      "metadata": {
        "colab": {
          "base_uri": "https://localhost:8080/"
        },
        "id": "bXEyoPo-1gSi",
        "outputId": "95fb4d54-1dbd-4e4e-d1df-f19ad439484a"
      },
      "execution_count": 1,
      "outputs": [
        {
          "output_type": "execute_result",
          "data": {
            "text/plain": [
              "5"
            ]
          },
          "metadata": {},
          "execution_count": 1
        }
      ]
    },
    {
      "cell_type": "code",
      "source": [
        "calculate(3,5,\"mul\")"
      ],
      "metadata": {
        "colab": {
          "base_uri": "https://localhost:8080/"
        },
        "id": "EfPGOyzu2OPC",
        "outputId": "1c72abeb-0787-4641-d995-cba2788444a6"
      },
      "execution_count": 2,
      "outputs": [
        {
          "output_type": "execute_result",
          "data": {
            "text/plain": [
              "15"
            ]
          },
          "metadata": {},
          "execution_count": 2
        }
      ]
    },
    {
      "cell_type": "markdown",
      "source": [
        "**Email Validator**\n"
      ],
      "metadata": {
        "id": "StujMRCR2zvx"
      }
    },
    {
      "cell_type": "code",
      "source": [
        "import re\n",
        "def is_valid_email(email):\n",
        "  regex = r'^[a-zA-Z0-9._%+-]+@[a-zA-Z0-9.-]+\\.[a-zA-Z]{2,}$'\n",
        "  return re.match(regex,email)\n",
        "\n",
        "user_email =input(\"Enter your email  \")\n",
        "if is_valid_email(user_email):\n",
        "  print(\"Valid email\")\n",
        "else:\n",
        "  print(\"Invalid email\")"
      ],
      "metadata": {
        "colab": {
          "base_uri": "https://localhost:8080/"
        },
        "id": "RNLUHM6H239q",
        "outputId": "85da6b44-f16e-4bdb-e5dc-df8fab654b3c"
      },
      "execution_count": 7,
      "outputs": [
        {
          "output_type": "stream",
          "name": "stdout",
          "text": [
            "Enter your email  abcdfgrhg\n",
            "Invalid email\n"
          ]
        }
      ]
    },
    {
      "cell_type": "markdown",
      "source": [
        "** Web Scraper with request and beautiful soup** **bold text**"
      ],
      "metadata": {
        "id": "c0JHHra97ujI"
      }
    },
    {
      "cell_type": "code",
      "source": [
        "import requests\n",
        "from bs4 import BeautifulSoup\n",
        "\n",
        "url =\"https://en.wikipedia.org/wiki/Python_(programming_language)\"\n",
        "response =requests.get(url)\n",
        "soup =BeautifulSoup(response.text,\"html.parser\")\n",
        "for text in soup.find_all(\"p\"):\n",
        "  print(text.get_text())"
      ],
      "metadata": {
        "colab": {
          "base_uri": "https://localhost:8080/"
        },
        "id": "MxpvETP_8FUN",
        "outputId": "fee0ba2c-9f7e-4e6e-9407-df31445f1f1d"
      },
      "execution_count": 8,
      "outputs": [
        {
          "output_type": "stream",
          "name": "stdout",
          "text": [
            "\n",
            "\n",
            "Python is a high-level, general-purpose programming language. Its design philosophy emphasizes code readability with the use of significant indentation.[33]\n",
            "\n",
            "Python is dynamically type-checked and garbage-collected. It supports multiple programming paradigms, including structured (particularly procedural), object-oriented and functional programming. It is often described as a \"batteries included\" language due to its comprehensive standard library.[34][35]\n",
            "\n",
            "Guido van Rossum began working on Python in the late 1980s as a successor to the ABC programming language, and he first released it in 1991 as Python 0.9.0.[36] Python 2.0 was released in 2000. Python 3.0, released in 2008, was a major revision not completely backward-compatible with earlier versions. Python 2.7.18, released in 2020, was the last release of Python 2.[37]\n",
            "\n",
            "Python consistently ranks as one of the most popular programming languages, and it has gained widespread use in the machine learning community.[38][39][40][41]\n",
            "\n",
            "Python was conceived in the late 1980s[42] by Guido van Rossum at Centrum Wiskunde & Informatica (CWI) in the Netherlands; it was conceived as a successor to the ABC programming language, which was inspired by SETL,[43] capable of exception handling and interfacing with the Amoeba operating system.[12] Python implementation began in December, 1989.[44] Van Rossum assumed sole responsibility for the project, as the lead developer, until 12 July 2018, when he announced his \"permanent vacation\" from responsibilities as Python's \"benevolent dictator for life\" (BDFL); this title was bestowed on him by the Python community to reflect his long-term commitment as the project's chief decision-maker.[45] (He has since come out of retirement and is self-titled \"BDFL-emeritus\".) In January, 2019, active Python core developers elected a five-member Steering Council to lead the project.[46][47]\n",
            "\n",
            "The name Python is said to derive from the British comedy series Monty Python's Flying Circus.[48]\n",
            "\n",
            "Python 2.0 was released on 16 October 2000, with many major new features such as list comprehensions, cycle-detecting garbage collection, reference counting, and Unicode support.[49] Python 2.7's end-of-life was initially set for 2015, and then postponed to 2020 out of concern that a large body of existing code could not easily be forward-ported to Python 3.[50][51] It no longer receives security patches or updates.[52][53] While Python 2.7 and older versions are officially unsupported, a different unofficial Python implementation, PyPy, continues to support Python 2, i.e., \"2.7.18+\" (plus 3.10), with the plus signifying (at least some) \"backported security updates\".[54]\n",
            "\n",
            "Python 3.0 was released on 3 December 2008, with some new semantics and changed syntax. At least every Python release since (the now unsupported) 3.5 has added some syntax to the language; a few later releases have removed outdated modules and have changed semantics, at least in a minor way.\n",
            "\n",
            "As of 8 April 2025[update], Python 3.13.3 is the latest stable release (it's highly recommended to upgrade to it, or upgrade any other older 3.x release). This version currently receives full bug-fix and security updates, while Python 3.12—released in October 2023—had active bug-fix support only until April 2025, and since then only security fixes. Python 3.9[55] is the oldest supported version of Python (albeit in the 'security support' phase), because Python 3.8 has become an end-of-life product.[56][57] Starting with Python 3.13, it and later versions receive two years of full support (which has increased from one and a half years), followed by three years of security support; this is the same total duration of support as previously.\n",
            "\n",
            "Security updates were expedited in 2021 and again twice in 2022. More issues were fixed in 2023 and in September 2024 (for Python versions 3.8.20 through 3.12.6)—all versions (including 2.7)[58] had been insecure because of issues leading to possible remote code execution[59] and web-cache poisoning.[60]\n",
            "\n",
            "Python 3.10 added the | union type operator[61] and added structural pattern matching capability to the language, with the new match and case keywords.[62] Python 3.11 expanded exception handling functionality. Python 3.12 added the new keyword type. Notable changes from version 3.10 to 3.11 include increased program execution speed and improved error reporting.[63] Python 3.11 is claimed to be 10–60% faster than Python 3.10, and Python 3.12 increases by an additional 5%. Python 3.12 also includes improved error messages (again improved in 3.14) and many other changes.\n",
            "\n",
            "Python 3.13 introduced more syntax for types; a new and improved interactive interpreter (REPL), featuring multi-line editing and color support; an incremental garbage collector, which results in shorter pauses for collection in programs that have many objects, as well as increasing the improved speed in 3.11 and 3.12);  an experimental just-in-time (JIT) compiler (such features need to be enabled specifically for the increase in speed);[64] and an experimental free-threaded build mode, which disables the global interpreter lock (GIL), allowing threads to run more concurrently, as enabled inpython3.13t or python3.13t.exe.\n",
            "\n",
            "Python Enhancement Proposal (PEP) 711 proposes PyBI—a standard format for distributing Python binaries.[65]\n",
            "\n",
            "Python 3.14.0 is now in the beta 1 phase (introduces e.g. a new opt-in interpreter, up to 30% faster).\n",
            "\n",
            "Python 3.15 will \"Make UTF-8 mode default\";[66] This mode is supported in all current Python versions, but it currently must be opted into. UTF-8 is already used by default on Windows (and other operating systems) for most purposes; an exception is opening files. Enabling UTF-8 also makes code fully cross-platform.\n",
            "\n",
            "Python 3.0 introduced very breaking changes, but all breaking changes in 3.x discussed below, are designed to affect few users.\n",
            "\n",
            "Python 3.12 dropped some outdated modules, and more will be dropped in the future, deprecated as of 3.13; already deprecated array 'u' format code will emit DeprecationWarning since 3.13 and will be removed in Python 3.16. The 'w' format code should be used instead. Part of ctypes is also deprecated and http.server.CGIHTTPRequestHandler will emit a DeprecationWarning, and will be removed in 3.15. Using that code already has a high potential for both security and functionality bugs. Parts of the typing module are deprecated, e.g. creating a typing.NamedTuple class using keyword arguments to denote the fields and such (and more) will be disallowed in Python 3.15. Python 3.12 removed wstr meaning Python extensions[67] need to be modified.[68]\n",
            "\n",
            "Python 3.13 introduces some changes in behavior, i.e., new \"well-defined semantics\", fixing bugs, and removing many deprecated classes, functions and methods (as well as some of the Python/C API and outdated modules). \"The  old implementation of locals() and frame.f_locals was slow, inconsistent and buggy,  and it had many corner cases and oddities. Code that works around those may need revising; code that uses locals() for simple templating or print debugging should continue to work correctly.\"[69]\n",
            "\n",
            "Python 3.13 introduces the experimental free-threaded build mode, which disables the Global Interpreter Lock (GIL); the GIL is a feature of CPython that previously prevented multiple threads from executing Python bytecode simultaneously. This optional build, introduced through PEP 703, enables better exploitation of multi-core CPUs. By allowing multiple threads to run Python code in parallel, the free-threaded mode addresses long-standing performance bottlenecks associated with the GIL. This change offers a new path for parallelism in Python, without resorting to multiprocessing or external concurrency frameworks.[70]\n",
            "\n",
            "Regarding annotations in upcoming Python version: \"In Python 3.14, from __future__ import annotations will continue to work as it did before, converting annotations into strings.\"[71]\n",
            "\n",
            "Python 3.14 drops the PGP digital verification signatures, it had deprecated in version 3.11, when its replacement Sigstore was added for all CPython artifacts; the use of PGP has been criticized by security practitioners.[72]\n",
            "\n",
            "Some additional standard-library modules will be removed in Python 3.15 or 3.16, as will be many deprecated classes, functions and methods.[73][74]\n",
            "\n",
            "Python is a multi-paradigm programming language. Object-oriented programming and structured programming are fully supported, and many of their features support functional programming and aspect-oriented programming (including metaprogramming[75] and metaobjects).[76] Many other paradigms are supported via extensions, including design by contract[77][78] and logic programming.[79] Python is often referred to as a 'glue language'[80] because it can seamlessly integrate components written in other languages.\n",
            "\n",
            "Python uses dynamic typing and a combination of reference counting and a cycle-detecting garbage collector for memory management.[81] It uses dynamic name resolution (late binding), which binds method and variable names during program execution.\n",
            "\n",
            "Python's design offers some support for functional programming in the Lisp tradition. It has filter,mapandreduce functions; list comprehensions, dictionaries, sets, and generator expressions.[82] The standard library has two modules (itertools and functools) that implement functional tools borrowed from Haskell and Standard ML.[83]\n",
            "\n",
            "Python's core philosophy is summarized in the Zen of Python (PEP 20), which includes aphorisms such as these:[84]\n",
            "\n",
            "However, Python features regularly violate these principles and have received criticism for adding unnecessary language bloat.[85] Responses to these criticisms note that the Zen of Python is a guideline rather than a rule.[86] The addition of some new features had been controversial: Guido van Rossum resigned as Benevolent Dictator for Life after conflict about adding the assignment expression operator in Python 3.8.[87][88]\n",
            "\n",
            "Nevertheless, rather than building all functionality into its core, Python was designed to be highly extensible via modules. This compact modularity has made it particularly popular as a means of adding programmable interfaces to existing applications. Van Rossum's vision of a small core language with a large standard library and easily extensible interpreter stemmed from his frustrations with ABC, which represented the opposite approach.[42]\n",
            "\n",
            "Python claims to strive for a simpler, less-cluttered syntax and grammar, while giving developers a choice in their coding methodology. In contrast to Perl's motto \"there is more than one way to do it\", Python advocates an approach where \"there should be one—and preferably only one—obvious way to do it.\".[84] In practice, however, Python provides many ways to achieve a given goal. There are, for example, at least three ways to format a string literal, with no certainty as to which one a programmer should use.[89] Alex Martelli is a Fellow at the Python Software Foundation and Python book author; he wrote that \"To describe something as 'clever' is not considered a compliment in the Python culture.\"[90]\n",
            "\n",
            "Python's developers usually try to avoid premature optimization; they also reject patches to non-critical parts of the CPython reference implementation that would offer marginal increases in speed at the cost of clarity.[91] Execution speed can be improved by moving speed-critical functions to extension modules written in languages such as C, or by using a just-in-time compiler like PyPy. It is also possible to cross-compile to other languages; but this approach either fails to achieve the expected speed-up, since Python is a very dynamic language, or only a restricted subset of Python is compiled (with potential minor semantic changes).[92]\n",
            "\n",
            "Python's developers aim for the language to be fun to use. This goal is reflected in the name—a tribute to the British comedy group Monty Python[93]—and in playful approaches to some tutorials and reference materials. For instance, some code examples use the terms \"spam\" and \"eggs\" (in reference to a Monty Python sketch), rather than the typical terms \"foo\" and \"bar\".[94][95] A common neologism in the Python community is pythonic, which has a wide range of meanings related to program style. Pythonic code may use Python idioms well; be natural or show fluency in the language; or conform with Python's minimalist philosophy and emphasis on readability.[96]\n",
            "\n",
            "Python is meant to be an easily readable language. Its formatting is visually uncluttered and often uses English keywords where other languages use punctuation. Unlike many other languages, it does not use curly brackets to delimit blocks, and semicolons after statements are allowed but rarely used. It has fewer syntactic exceptions and special cases than C or Pascal.[97]\n",
            "\n",
            "Python uses whitespace indentation, rather than curly brackets or keywords, to delimit blocks. An increase in indentation comes after certain statements; a decrease in indentation signifies the end of the current block.[98] Thus, the program's visual structure accurately represents its semantic structure.[99] This feature is sometimes termed the off-side rule. Some other languages use indentation this way; but in most, indentation has no semantic meaning. The recommended indent size is four spaces.[100]\n",
            "\n",
            "Python's statements include the following:\n",
            "\n",
            "The assignment statement (=) binds a name as a reference to a separate, dynamically allocated object. Variables may subsequently be rebound at any time to any object. In Python, a variable name is a generic reference holder without a fixed data type; however, it always refers to some object with a type. This is called dynamic typing—in contrast to statically-typed languages, where each variable may contain only a value of a certain type.\n",
            "\n",
            "Python does not support tail call optimization or first-class continuations; according to Van Rossum, the language never will.[103][104] However, better support for coroutine-like functionality is provided by extending Python's generators.[105] Before 2.5, generators were lazy iterators; data was passed unidirectionally out of the generator. From Python 2.5 on, it is possible to pass data back into a generator function; and from version 3.3, data can be passed through multiple stack levels.[106]\n",
            "\n",
            "Python's expressions include the following:\n",
            "\n",
            "In Python, a distinction between expressions and statements is rigidly enforced, in contrast to languages such as Common Lisp, Scheme, or Ruby. This distinction leads to duplicating some functionality, for example:\n",
            "\n",
            "A statement cannot be part of an expression; because of this restriction, expressions such as list and dict comprehensions (and lambda expressions) cannot contain statements. As a particular case, an assignment statement such as a = 1 cannot be part of the conditional expression of a conditional statement.\n",
            "\n",
            "Methods of objects are functions attached to the object's class; the syntax for normal methods and functions, instance.method(argument), is syntactic sugar for Class.method(instance, argument). Python methods have an explicit self parameter to access instance data, in contrast to the implicit self (or this) parameter in some object-oriented programming languages (e.g., C++, Java, Objective-C, Ruby).[115] Python also provides methods, often called dunder methods (because their names begin and end with double underscores); these methods allow user-defined classes to modify how they are handled by native operations including length, comparison, arithmetic, and type conversion.[116]\n",
            "\n",
            "Python uses duck typing, and it has typed objects but untyped variable names. Type constraints are not checked at definition time; rather, operations on an object may fail at usage time, indicating that the object is not of an appropriate type. Despite being dynamically typed, Python is strongly typed, forbidding operations that are poorly defined (e.g., adding a number and a string) rather than quietly attempting to interpret them.\n",
            "\n",
            "Python allows programmers to define their own types using classes, most often for object-oriented programming. New instances of classes are constructed by calling the class, for example, SpamClass() or EggsClass()); the classes are instances of the metaclass type (which is an instance of itself), thereby allowing metaprogramming and reflection.\n",
            "\n",
            "Before version 3.0, Python had two kinds of classes, both using the same syntax: old-style and new-style.[117] Current Python versions support the semantics of only the new style.\n",
            "\n",
            "Python supports optional type annotations.[4][118] These annotations are not enforced by the language, but may be used by external tools such as mypy to catch errors.[119][120] Mypy also supports a Python compiler called mypyc, which leverages type annotations for optimization.[121]\n",
            "\n",
            "1.33333\n",
            "\n",
            "Python includes conventional symbols for arithmetic operators (+, -, *, /), the floor-division operator //, and the modulo operator %. (With the module operator, a remainder can be negative, e.g., 4 % -3 == -2.) Python also offers the ** symbol for exponentiation, e.g. 5**3 == 125 and 9**0.5 == 3.0; it also offers the matrix‑multiplication operator @ .[125] These operators work as in traditional mathematics; with the same precedence rules, the infix operators + and - can also be unary, to represent positive and negative numbers respectively.\n",
            "\n",
            "Division between integers produces floating-point results. The behavior of division has changed significantly over time:[126]\n",
            "\n",
            "In Python terms, the / operator represents true division (or simply division), while the // operator represents floor division. Before version 3.0, the / operator represents classic division.[126]\n",
            "\n",
            "Rounding towards negative infinity, though a different method than in most languages, adds consistency to Python. For instance, this rounding implies that the equation (a + b)//b == a//b + 1 is always true. The rounding also implies that the equation b*(a//b) + a%b == a is valid for both positive and negative values of a. As expected, the result of a%b lies in the half-open interval [0, b), where b is a positive integer; however, maintaining the validity of the equation requires that the result must lie in the interval (b, 0] when b is negative.[127]\n",
            "\n",
            "Python provides a round function for rounding a float to the nearest integer. For tie-breaking, Python 3 uses the round to even method: round(1.5) and round(2.5) both produce 2.[128] Python versions before 3 used the round-away-from-zero method: round(0.5) is 1.0, and round(-0.5) is −1.0.[129]\n",
            "\n",
            "Python allows Boolean expressions that contain multiple equality relations to be consistent with general usage in mathematics. For example, the expression a < b < c tests whether a is less than b and b is less than c.[130] C-derived languages interpret this expression differently: in C, the expression would first evaluate a < b, resulting in 0 or 1, and that result would then be compared with c.[131]\n",
            "\n",
            "Python uses arbitrary-precision arithmetic for all integer operations. The Decimal type/class in the decimal module provides decimal floating-point numbers to a pre-defined arbitrary precision with several rounding modes.[132] The Fraction class in the fractions module provides arbitrary precision for rational numbers.[133]\n",
            "\n",
            "Due to Python's extensive mathematics library and the third-party library NumPy, the language is frequently used for scientific scripting in tasks such as numerical data processing and manipulation.[134][135]\n",
            "\n",
            "Functions are created in Python by using the def keyword. A function is defined similarly to how it is called, by first providing the function name and then the required parameters. Here is an example of a function that prints its inputs:\n",
            "\n",
            "To assign a default value to a function parameter in case no actual value is provided at run time, variable-definition syntax can be used inside the function header.\n",
            "\n",
            "\"Hello, World!\" program:\n",
            "\n",
            "Program to calculate the factorial of a positive integer:\n",
            "\n",
            "Python's large standard library[136] is commonly cited as one of its greatest strengths. For Internet-facing applications, many standard formats and protocols such as MIME and HTTP are supported. The language includes modules for creating graphical user interfaces, connecting to relational databases, generating pseudorandom numbers, arithmetic with arbitrary-precision decimals,[132] manipulating regular expressions, and unit testing.\n",
            "\n",
            "Some parts of the standard library are covered by specifications—for example, the Web Server Gateway Interface (WSGI) implementation wsgiref follows PEP 333[137]—but most parts are specified by their code, internal documentation, and test suites. However, because most of the standard library is cross-platform Python code, only a few modules must be altered or rewritten for variant implementations.\n",
            "\n",
            "As of 13 March 2025,[update] the Python Package Index (PyPI), the official repository for third-party Python software, contains over 614,339[138] packages. These have a wide range of functionality, including the following:\n",
            "\n",
            "Most Python implementations (including CPython) include a read–eval–print loop (REPL); this permits the environment to function as a command line interpreter, with which users enter statements sequentially and receive results immediately.\n",
            "\n",
            "Python is also bundled with an integrated development environment (IDE) called IDLE, which is oriented toward beginners.\n",
            "\n",
            "Other shells, including IDLE and IPython, add additional capabilities such as improved auto-completion, session-state retention, and syntax highlighting.\n",
            "\n",
            "Standard desktop IDEs include PyCharm, IntelliJ Idea, Visual Studio Code; there are also web browser-based IDEs, such as the following environments:\n",
            "\n",
            "CPython is the reference implementation of Python. This implementation is written in C, meeting the C11 standard[141] (since version 3.11, older versions use the C89 standard with several select C99 features), but third-party extensions are not limited to older C versions—e.g., they can be implemented using C11 or C++.[142][143] CPython compiles Python programs into an intermediate bytecode,[144] which is then executed by a virtual machine.[145] CPython is distributed with a large standard library written in a combination of C and native Python.\n",
            "\n",
            "CPython is available for many platforms, including Windows and most modern Unix-like systems, including macOS (and Apple M1 Macs, since Python 3.9.1, using an experimental installer). Starting with Python 3.9, the Python installer intentionally fails to install on Windows 7 and 8;[146][147] Windows XP was supported until Python 3.5, with unofficial support for VMS.[148] Platform portability was one of Python's earliest priorities.[149] During development of Python 1 and 2, even OS/2 and Solaris were supported;[150] since that time, support has been dropped for many platforms.\n",
            "\n",
            "All current Python versions (since 3.7) support only operating systems that feature multithreading, by now supporting not nearly as many operating systems (dropping many outdated) than in the past.\n",
            "\n",
            "All alternative implementations have at least slightly different semantic. For example, an alternative may include unordered dictionaries, in contrast to other current Python versions. As another example in the larger Python ecosystem, PyPy does not support the full C Python API. Alternative implementations include the following:\n",
            "\n",
            "Stackless Python is a significant fork of CPython that implements microthreads. This implementation uses the call stack differently, thus allowing massively concurrent programs. PyPy also offers a stackless version.[163]\n",
            "\n",
            "Just-in-time Python compilers have been developed, but are now unsupported:\n",
            "\n",
            "There are several compilers/transpilers to high-level object languages; the source language is unrestricted Python, a subset of Python, or a language similar to Python:\n",
            "\n",
            "There are also specialized compilers:\n",
            "\n",
            "Some older projects existed, as well as compilers not designed for use with Python 3.x and related syntax:\n",
            "\n",
            "A perforance comparison among various Python implementations, using a non-numerical (combinatorial) workload, was presented at EuroSciPy '13.[178] In addition, Python's performance relative to other programming languages is benchmarked by The Computer Language Benchmarks Game.[179]\n",
            "\n",
            "There are several approaches to optimizing Python performance, given the inherent slowness of an interpreted language. These approaches include the following strategies or tools:\n",
            "\n",
            "Python's development is conducted largely through the Python Enhancement Proposal (PEP) process; this process is the primary mechanism for proposing major new features, collecting community input on issues, and documenting Python design decisions.[180] Python coding style is covered in PEP 8.[181] Outstanding PEPs are reviewed and commented on by the Python community and the steering council.[180]\n",
            "\n",
            "Enhancement of the language corresponds with development of the CPython reference implementation. The mailing list python-dev is the primary forum for the language's development. Specific issues were originally discussed in the Roundup bug tracker hosted by the foundation.[182] In 2022, all issues and discussions were migrated to GitHub.[183] Development originally took place on a self-hosted source-code repository running Mercurial, until Python moved to GitHub in January 2017.[184]\n",
            "\n",
            "CPython's public releases have three types, distinguished by which part of the version number is incremented:\n",
            "\n",
            "Many alpha, beta, and release-candidates are also released as previews and for testing before final releases. Although there is a rough schedule for releases, they are often delayed if the code is not ready yet. Python's development team monitors the state of the code by running a large unit test suite during development.[190]\n",
            "\n",
            "The major academic conference on Python is PyCon. There are also special Python mentoring programs, such as PyLadies.\n",
            "\n",
            "Tools that can generate documentation for Python API include pydoc (available as part of the standard library); Sphinx; and Pdoc and its forks, Doxygen and Graphviz.[191]\n",
            "\n",
            "Python's name is inspired by the British comedy group Monty Python, whom Python creator Guido van Rossum enjoyed while developing the language. Monty Python references appear frequently in Python code and culture;[192] for example, the metasyntactic variables often used in Python literature are spam and eggs, rather than the traditional foo and bar.[192][193] The official Python documentation also contains various references to Monty Python routines.[194][195] Python users are sometimes referred to as \"Pythonistas\".[196]\n",
            "\n",
            "The affix Py is often used when naming Python applications or libraries. Some examples include the following:\n",
            "\n",
            "Since 2003, Python has consistently ranked in the top ten of the most popular programming languages in the TIOBE Programming Community Index; as of December 2022[update], Python was the most popular language.[40] Python was selected as Programming Language of the Year (for \"the highest rise in ratings in a year\") in 2007, 2010, 2018, and 2020—the only language to have done so four times as of 2020[update][197]). In the TIOBE Index, monthly rankings are based on the volume of searches for programming languages on Google, Amazon, Wikipedia, Bing, and 20 other platforms. According to the accompanying graph, Python has shown a marked upward trend since the early 2000s, eventually passing more established languages such as C, C++, and Java. This trend can be attributed to Python's readable syntax, comprehensive standard library, and application in data science and machine learning fields.[198]\n",
            "\n",
            "Large organizations that use Python include Wikipedia, Google,[199] Yahoo!,[200] CERN,[201] NASA,[202] Facebook,[203] Amazon, Instagram,[204] Spotify,[205] and some smaller entities such as Industrial Light & Magic[206] and ITA.[207] The social news networking site Reddit was developed mostly in Python.[208] Organizations that partly use Python include Discord[209] and Baidu.[210]\n",
            "\n",
            "Python has many uses, including the following:\n",
            "\n",
            "Python can serve as a scripting language for web applications, e.g., via the mod_wsgi module for the Apache web server.[211] With Web Server Gateway Interface, a standard API has evolved to facilitate these applications. Web frameworks such as Django, Pylons, Pyramid, TurboGears, web2py, Tornado, Flask, Bottle, and Zope support developers in the design and maintenance of complex applications. Pyjs and IronPython can be used to develop the client-side of Ajax-based applications. SQLAlchemy can be used as a data mapper to a relational database. Twisted is a framework to program communication between computers; this framework is used by Dropbox, for example.\n",
            "\n",
            "Libraries such as NumPy, SciPy and Matplotlib allow the effective use of Python in scientific computing,[212][213] with specialized libraries such as Biopython and Astropy providing domain-specific functionality. SageMath is a computer algebra system with a notebook interface that is programmable in Python; the SageMath library covers many aspects of mathematics, including algebra, combinatorics, numerical mathematics, number theory, and calculus.[214] OpenCV has Python bindings with a rich set of features for computer vision and image processing.[215]\n",
            "\n",
            "Python is commonly used in artificial-intelligence and machine-learning projects, with support from libraries such as TensorFlow, Keras, Pytorch, scikit-learn and ProbLog (a logic language).[216][217][218][219][220] As a scripting language with a modular architecture, simple syntax, and rich text processing tools, Python is often used for natural language processing.[221]\n",
            "\n",
            "The combination of Python and Prolog has proven useful for AI applications, with Prolog providing knowledge representation and reasoning capabilities. The Janus system, in particular, exploits similarities between these two languages, in part because of their dynamic typing and their simple, recursive data structures. This combination is typically applied natural language processing, visual query answering, geospatial reasoning, and handling semantic web data.[222][223]\n",
            "The Natlog system, implemented in Python, uses Definite Clause Grammars (DCGs) to create prompts for two types of generators: text-to-text generators such as GPT3, and text-to-image generators such as DALL-E or Stable Diffusion.[224]\n",
            "\n",
            "Python can be used for graphical user interfaces (GUIs), by using libraries such as Tkinter.[225] Similarly, for the One Laptop per Child XO computer, most of the Sugar desktop environment is written in Python (as of 2008).[226]\n",
            "\n",
            "Python is embedded in many software products (and some hardware products) as a scripting language. These products include the following: \n",
            "\n",
            "Similarly, GNU Debugger uses Python as a pretty printer to show complex structures such as C++ containers. Esri promotes Python as the best choice for writing scripts in ArcGIS.[229] Python has also been used in several video games,[230][231] and it has been adopted as first of the three programming languages available in Google App Engine (the other two being Java and Go).[232] LibreOffice includes Python, and its developers plan to replace Java with Python; LibreOffice's Python Scripting Provider is a core feature[233] since version 4.0 (from 7 February 2013). \n",
            "\n",
            "Among hardware products, the Raspberry Pi single-board computer project has adopted Python as its main user-programming language.\n",
            "\n",
            "Many operating systems include Python as a standard component. Python ships with most Linux distributions,[234] AmigaOS 4 (using Python 2.7), FreeBSD (as a package), NetBSD, and OpenBSD (as a package); it can be used from the command line (terminal). Many Linux distributions use installers written in Python: Ubuntu uses the Ubiquity installer, while Red Hat Linux and Fedora Linux use the Anaconda installer. Gentoo Linux uses Python in its package management system, Portage.[235]\n",
            "\n",
            "Python is used extensively in the information security industry, including in exploit development.[236][237]\n",
            "\n",
            "Python's design and philosophy have influenced many other programming languages:\n",
            "\n",
            "Python's development practices have also been emulated by other languages. For example, Python requires a document that describes the rationale and context for any language change; this document is known as a Python Enhancement Proposal or PEP. This practice is also used by the developers of Tcl,[250] Erlang,[251] and Swift.[252]\n",
            "\n"
          ]
        }
      ]
    },
    {
      "cell_type": "markdown",
      "source": [
        "**Advanced Web Scraper**"
      ],
      "metadata": {
        "id": "3teBx6N69Pn7"
      }
    },
    {
      "cell_type": "code",
      "source": [
        "import requests\n",
        "from bs4 import BeautifulSoup\n",
        "\n",
        "url =\"https://en.wikipedia.org/wiki/Python_(programming_language)\"\n",
        "response =requests.get(url)\n",
        "soup =BeautifulSoup(response.text,\"html.parser\")\n",
        "with open(\"python.txt\",\"w\") as file:\n",
        "  for text in soup.find_all(\"p\"):\n",
        "    file.write(text.get_text())\n",
        "print(\"======Text file generated successfully====\")"
      ],
      "metadata": {
        "colab": {
          "base_uri": "https://localhost:8080/"
        },
        "id": "lrGJ-yu99UV7",
        "outputId": "d378922f-c587-462a-80b6-bda1d4db48ff"
      },
      "execution_count": 9,
      "outputs": [
        {
          "output_type": "stream",
          "name": "stdout",
          "text": [
            "======Text file generated successfully====\n"
          ]
        }
      ]
    }
  ]
}